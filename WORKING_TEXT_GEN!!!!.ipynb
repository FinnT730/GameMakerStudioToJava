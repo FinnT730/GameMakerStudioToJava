{
  "nbformat": 4,
  "nbformat_minor": 0,
  "metadata": {
    "colab": {
      "name": "WORKING TEXT GEN!!!!.ipynb",
      "version": "0.3.2",
      "provenance": [],
      "collapsed_sections": [],
      "include_colab_link": true
    },
    "kernelspec": {
      "name": "python3",
      "display_name": "Python 3"
    },
    "accelerator": "TPU"
  },
  "cells": [
    {
      "cell_type": "markdown",
      "metadata": {
        "id": "view-in-github",
        "colab_type": "text"
      },
      "source": [
        "<a href=\"https://colab.research.google.com/github/FinnT730/GameMakerStudioToJava/blob/deletethis/WORKING_TEXT_GEN!!!!.ipynb\" target=\"_parent\"><img src=\"https://colab.research.google.com/assets/colab-badge.svg\" alt=\"Open In Colab\"/></a>"
      ]
    },
    {
      "metadata": {
        "id": "G3ixl7ZAFnqP",
        "colab_type": "code",
        "colab": {}
      },
      "cell_type": "code",
      "source": [
        "!pip install -q textgenrnn"
      ],
      "execution_count": 0,
      "outputs": []
    },
    {
      "metadata": {
        "id": "MU2F9USoFtsz",
        "colab_type": "code",
        "colab": {
          "base_uri": "https://localhost:8080/",
          "height": 1754
        },
        "outputId": "45a8749b-9708-464a-f36f-0257cbcc89e3"
      },
      "cell_type": "code",
      "source": [
        "from textgenrnn import textgenrnn\n",
        "\n",
        "textgen = textgenrnn()\n",
        "textgen.train_from_file('379831514.txt',num_epochs=100)\n",
        "textgen.generate()"
      ],
      "execution_count": 0,
      "outputs": [
        {
          "output_type": "stream",
          "text": [
            "Using TensorFlow backend.\n"
          ],
          "name": "stderr"
        },
        {
          "output_type": "stream",
          "text": [
            "WARNING:tensorflow:From /usr/local/lib/python3.6/dist-packages/tensorflow/python/framework/op_def_library.py:263: colocate_with (from tensorflow.python.framework.ops) is deprecated and will be removed in a future version.\n",
            "Instructions for updating:\n",
            "Colocations handled automatically by placer.\n",
            "1,710 texts collected.\n",
            "Training on 104,444 character sequences.\n",
            "WARNING:tensorflow:From /usr/local/lib/python3.6/dist-packages/tensorflow/python/ops/math_ops.py:3066: to_int32 (from tensorflow.python.ops.math_ops) is deprecated and will be removed in a future version.\n",
            "Instructions for updating:\n",
            "Use tf.cast instead.\n",
            "WARNING:tensorflow:From /usr/local/lib/python3.6/dist-packages/tensorflow/python/ops/math_grad.py:102: div (from tensorflow.python.ops.math_ops) is deprecated and will be removed in a future version.\n",
            "Instructions for updating:\n",
            "Deprecated in favor of operator or tf.math.divide.\n",
            "Epoch 1/100\n",
            "815/815 [==============================] - 264s 324ms/step - loss: 1.6262\n",
            "####################\n",
            "Temperature: 0.2\n",
            "####################\n",
            "[03:06:43.654] Asneakyninja1: soarynNap\n",
            "\n",
            "[06:03:39.328] Asneakyninja1: soarynNap\n",
            "\n",
            "[03:06:39.185] Asneakyninja1: soarynNap\n",
            "\n",
            "####################\n",
            "Temperature: 0.5\n",
            "####################\n",
            "[03:25:03.956] Asneakyninja1: soarynNap\n",
            "\n",
            "[02:19:39.644] Asneakyninja1: soarynLove soarynLOL\n",
            "\n",
            "[03:06:43.259] Asneakyninja1: what does a class and plat things to speed the punion is the crackrickapple soarynLOL\n",
            "\n",
            "####################\n",
            "Temperature: 1.0\n",
            "####################\n",
            "[03:40:03.258] kynextwopp: @Riadjary\n",
            "\n",
            "[06:03:30.267] S everyoshe9: 143\n",
            "\n",
            "[0:53:25.358] HoytZephyryudquappystoninko ownard | awn Roydsa soarynNosts see you wait from here where I will sukd to rootate drug bectec eithed's now large was Awesoid\n",
            "\n",
            "Epoch 2/100\n",
            "815/815 [==============================] - 263s 322ms/step - loss: 1.3572\n",
            "####################\n",
            "Temperature: 0.2\n",
            "####################\n",
            "[01:36:39.336] Asneakyninja1: soarynLove\n",
            "\n",
            "[01:33:39.553] Asneakyninja1: soarynHappy\n",
            "\n",
            "[01:36:33.036] Asneakyninja1: soarynLove xene that can you can be a between the chatter that chain of the ground.\n",
            "\n",
            "####################\n",
            "Temperature: 0.5\n",
            "####################\n",
            "[01:31:39.339] Asneakyninja1: that's going a cheese to see you can see that soarynLove\n",
            "\n",
            "[05:38:06.463] Nightbox: soarynFine\n",
            "\n",
            "[03:31:31.505] Asneakyninja1: soarynWave\n",
            "\n",
            "####################\n",
            "Temperature: 1.0\n",
            "####################\n",
            "[05:06:41.626] Dl2agon: Neel!\n",
            "\n",
            "[02:37:20.483] Dalky: Come popped?\n",
            "\n",
            "[04:31:17.050] Asneakyninja1: soarynPalm ?\n",
            "\n",
            "Epoch 3/100\n",
            "815/815 [==============================] - 262s 322ms/step - loss: 1.2746\n",
            "####################\n",
            "Temperature: 0.2\n",
            "####################\n",
            "[01:36:33.169] Asneakyninja1: there is there that out to the stream of the stream stream soaryn\n",
            "\n",
            "[01:30:16.181] Asneakyninja1: soarynLove\n",
            "\n",
            "[01:13:11.111] Asneakyninja1: soarynWave\n",
            "\n",
            "####################\n",
            "Temperature: 0.5\n",
            "####################\n",
            "[02:16:11.839] Carbon: soarynMoo have the soaryn?\n",
            "\n",
            "[01:36:31.968] Asneakyninja1: how do you see that the rover is there of a screwnition to the same to the tractor to the moos to try to the core to the power to the cars?\n",
            "\n",
            "[01:21:34.134] CorenAlbrich: there is the Twin Triny there is a berry night and me to pretty sub cart out leash is not to the trip to try to see there in the planet?\n",
            "\n",
            "####################\n",
            "Temperature: 1.0\n",
            "####################\n",
            "[03:55:13.054] Asneakyninja1: hierel\n",
            "\n",
            "[00:21:16.961] FAR MossierBragonNols: Tens @Phyutitherwaa moragmis mode\n",
            "\n",
            "[01:34:13.225] Galar: 32 bater soarynWave?\n",
            "\n",
            "Epoch 4/100\n",
            " 44/815 [>.............................] - ETA: 4:10 - loss: 1.2010"
          ],
          "name": "stdout"
        }
      ]
    }
  ]
}